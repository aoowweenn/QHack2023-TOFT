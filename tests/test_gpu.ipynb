{
 "cells": [
  {
   "cell_type": "code",
   "execution_count": null,
   "id": "c9547b97-6ced-4a5d-901e-0538c54daaf3",
   "metadata": {},
   "outputs": [],
   "source": [
    "import numpy as np"
   ]
  },
  {
   "cell_type": "code",
   "execution_count": null,
   "id": "928a62f9-90b8-45b0-9901-94a4ca2359f3",
   "metadata": {},
   "outputs": [],
   "source": [
    "np.show_config()"
   ]
  },
  {
   "cell_type": "code",
   "execution_count": null,
   "id": "092439c3-a43f-4774-9114-3c82a20ff78f",
   "metadata": {},
   "outputs": [],
   "source": [
    "import jax"
   ]
  },
  {
   "cell_type": "code",
   "execution_count": null,
   "id": "deb4ce79-5beb-4e39-b4da-5a202ca60193",
   "metadata": {},
   "outputs": [],
   "source": [
    "jax.devices()"
   ]
  },
  {
   "cell_type": "code",
   "execution_count": null,
   "id": "7405a9b9-87d0-4b31-88c7-3de3541594fb",
   "metadata": {},
   "outputs": [],
   "source": [
    "aa = jax.numpy.array([1, 2, 3])"
   ]
  },
  {
   "cell_type": "code",
   "execution_count": null,
   "id": "cfef0a11-56f3-4a56-b33b-b99a70177e1c",
   "metadata": {},
   "outputs": [],
   "source": [
    "aa**2"
   ]
  },
  {
   "cell_type": "code",
   "execution_count": null,
   "id": "79e056e9-a825-4e07-af38-28e3cf3bee10",
   "metadata": {},
   "outputs": [],
   "source": [
    "import pennylane as qml"
   ]
  },
  {
   "cell_type": "code",
   "execution_count": null,
   "id": "13623959-7cc7-4b9e-a857-2e4658aa38bb",
   "metadata": {},
   "outputs": [],
   "source": [
    "dev1 = qml.device(\"lightning.gpu\", wires=1)"
   ]
  },
  {
   "cell_type": "code",
   "execution_count": null,
   "id": "b0811a27-2027-415e-a35d-8ebfc6071108",
   "metadata": {},
   "outputs": [],
   "source": [
    "@qml.qnode(dev1)\n",
    "def circuit(params):\n",
    "    qml.RX(params[0], wires=0)\n",
    "    qml.RY(params[1], wires=0)\n",
    "    return qml.expval(qml.PauliZ(0))"
   ]
  },
  {
   "cell_type": "code",
   "execution_count": null,
   "id": "ab36040a-0248-4991-a00f-4bd31eb04d23",
   "metadata": {},
   "outputs": [],
   "source": [
    "print(circuit([0.54, 0.12]))"
   ]
  },
  {
   "cell_type": "code",
   "execution_count": null,
   "id": "65941cce-db26-4e56-86d1-97e2ad098878",
   "metadata": {},
   "outputs": [],
   "source": []
  }
 ],
 "metadata": {
  "kernelspec": {
   "display_name": "QChem",
   "language": "python",
   "name": "qchem"
  },
  "language_info": {
   "codemirror_mode": {
    "name": "ipython",
    "version": 3
   },
   "file_extension": ".py",
   "mimetype": "text/x-python",
   "name": "python",
   "nbconvert_exporter": "python",
   "pygments_lexer": "ipython3",
   "version": "3.9.5"
  }
 },
 "nbformat": 4,
 "nbformat_minor": 5
}
