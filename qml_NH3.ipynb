{
 "cells": [
  {
   "cell_type": "code",
   "execution_count": 1,
   "metadata": {},
   "outputs": [],
   "source": [
    "import numpy as np\n",
    "from numpy.linalg import inv\n",
    "import matplotlib.pyplot as plt\n",
    "import networkx as nx\n",
    "from scipy.sparse.linalg import eigs, eigsh\n",
    "from scipy.linalg import eig, eigh\n",
    "from functools import reduce\n",
    "import pickle\n",
    "import qutip as qt\n",
    "import jax\n",
    "# from jax import config; config.update('jax_enable_x64', True) # config.update('jax_platform_name', 'cpu')\n",
    "import jax.numpy as jnp\n",
    "\n",
    "from openfermion.chem.molecular_data import spinorb_from_spatial\n",
    "from openfermion.ops import InteractionOperator, FermionOperator\n",
    "from openfermion.transforms import get_fermion_operator, jordan_wigner\n",
    "from openfermion.linalg import get_sparse_operator, eigenspectrum\n",
    "\n",
    "from pyscf import gto, dft, scf, cc, df, ao2mo, fci\n",
    "# from pyscf import fci\n",
    "\n",
    "import pennylane as qml\n",
    "import pennylane.numpy as qmlnp\n",
    "from pennylane import qchem\n",
    "\n",
    "from ham import(\n",
    "    pauli, get_qml_ham\n",
    ")\n",
    "\n",
    "from utils import(\n",
    "    PauSumHam, taper, bit_count\n",
    ")\n",
    "\n",
    "from tapering import(\n",
    "    get_ao_rep,\n",
    "    get_generators\n",
    ")\n",
    "\n",
    "bohr = 0.529177249\n"
   ]
  },
  {
   "attachments": {},
   "cell_type": "markdown",
   "metadata": {},
   "source": [
    "#### test"
   ]
  },
  {
   "cell_type": "code",
   "execution_count": 2,
   "metadata": {},
   "outputs": [],
   "source": [
    "# try: jnp.arange(2)\n",
    "# except Exception as e:\n",
    "#     print(e)\n",
    "#     jax.config.update('jax_platform_name', 'cpu')"
   ]
  },
  {
   "attachments": {},
   "cell_type": "markdown",
   "metadata": {},
   "source": [
    "## Structure"
   ]
  },
  {
   "cell_type": "code",
   "execution_count": 3,
   "metadata": {},
   "outputs": [
    {
     "data": {
      "text/plain": [
       "array([[ 0.      ,  0.      ,  0.149322],\n",
       "       [ 0.      ,  0.947483, -0.348419],\n",
       "       [ 0.820544, -0.473742, -0.348419],\n",
       "       [-0.820544, -0.473742, -0.348419]])"
      ]
     },
     "execution_count": 3,
     "metadata": {},
     "output_type": "execute_result"
    }
   ],
   "source": [
    "NH3_atom = [['N' ,  ( 0.0000000,  0.0000000,  0.1493220)],\n",
    "\t\t\t['H' ,  ( 0.0000000,  0.9474830, -0.3484190)],\n",
    "\t\t\t['H' ,  ( 0.8205440, -0.4737420, -0.3484190)],\n",
    "\t\t\t['H' ,  (-0.8205440, -0.4737420, -0.3484190)]]\n",
    "\n",
    "np.array([coord for atom, coord in NH3_atom])"
   ]
  },
  {
   "cell_type": "code",
   "execution_count": 4,
   "metadata": {},
   "outputs": [],
   "source": [
    "symbols = [\"N\", \"H\", \"H\", \"H\"]\n",
    "coordinates = qmlnp.array([coord for atom, coord in NH3_atom], requires_grad=False)\n",
    "n_electrons = 10"
   ]
  },
  {
   "attachments": {},
   "cell_type": "markdown",
   "metadata": {},
   "source": [
    "## Hamiltonian"
   ]
  },
  {
   "cell_type": "code",
   "execution_count": 5,
   "metadata": {},
   "outputs": [],
   "source": [
    "qham, n_qubits = qchem.molecular_hamiltonian(symbols, coordinates, basis='sto-3g', mapping='jordan_wigner')"
   ]
  },
  {
   "attachments": {},
   "cell_type": "markdown",
   "metadata": {},
   "source": [
    "### generators"
   ]
  },
  {
   "cell_type": "code",
   "execution_count": 6,
   "metadata": {},
   "outputs": [
    {
     "name": "stderr",
     "output_type": "stream",
     "text": [
      "/home/physics/.local/lib/python3.8/site-packages/pennylane/operation.py:1830: UserWarning: Tensor object acts on overlapping wires; in some PennyLane functions this will lead to undefined behaviour\n",
      "  warnings.warn(\n",
      "/home/physics/.local/lib/python3.8/site-packages/pennylane/operation.py:1993: UserWarning: Tensor object acts on overlapping wires; in some PennyLane functions this will lead to undefined behaviour\n",
      "  warnings.warn(\n"
     ]
    }
   ],
   "source": [
    "generators = qml.symmetry_generators(qham)\n",
    "paulixops = qml.paulix_ops(generators, n_qubits)\n",
    "paulix_sector = qml.qchem.optimal_sector(qham, generators, n_electrons)"
   ]
  },
  {
   "cell_type": "code",
   "execution_count": 7,
   "metadata": {},
   "outputs": [
    {
     "data": {
      "text/plain": [
       "[<Hamiltonian: terms=1, wires=[0, 2, 4, 6, 8, 10, 12, 14]>,\n",
       " <Hamiltonian: terms=1, wires=[1, 3, 5, 7, 9, 11, 13, 15]>]"
      ]
     },
     "execution_count": 7,
     "metadata": {},
     "output_type": "execute_result"
    }
   ],
   "source": [
    "generators"
   ]
  },
  {
   "attachments": {},
   "cell_type": "markdown",
   "metadata": {},
   "source": [
    "### qham tapering"
   ]
  },
  {
   "cell_type": "code",
   "execution_count": 8,
   "metadata": {},
   "outputs": [],
   "source": [
    "# qham_tapered = qml.taper(qham, generators, paulixops, paulix_sector)\n",
    "# over 4 min, memory not enough"
   ]
  },
  {
   "cell_type": "code",
   "execution_count": 9,
   "metadata": {},
   "outputs": [],
   "source": [
    "# E_qml_tapered = eigsh(qml.utils.sparse_hamiltonian(qham_tapered), k=1, which='SA')[0]"
   ]
  },
  {
   "attachments": {},
   "cell_type": "markdown",
   "metadata": {},
   "source": [
    "### psh ham tapering"
   ]
  },
  {
   "cell_type": "code",
   "execution_count": 10,
   "metadata": {},
   "outputs": [],
   "source": [
    "# psham_tapered = taper(qham, generators, paulixops, paulix_sector)"
   ]
  },
  {
   "cell_type": "code",
   "execution_count": 11,
   "metadata": {},
   "outputs": [],
   "source": [
    "# E_psh_tapered = eigsh(psham_tapered.to_sparse(), k=1, which='SA')[0][0] # take over 30 min\n",
    "# E_psh_tapered = -14.82514221821951"
   ]
  },
  {
   "cell_type": "code",
   "execution_count": 12,
   "metadata": {},
   "outputs": [],
   "source": [
    "# E_psh_tapered"
   ]
  },
  {
   "cell_type": "code",
   "execution_count": 13,
   "metadata": {},
   "outputs": [],
   "source": [
    "# n_qubits, psham_tapered.n_qubits # (14, 10)"
   ]
  },
  {
   "attachments": {},
   "cell_type": "markdown",
   "metadata": {},
   "source": [
    "### point-group symmetry tapering (with psh)"
   ]
  },
  {
   "cell_type": "code",
   "execution_count": 14,
   "metadata": {},
   "outputs": [],
   "source": [
    "# n_basis, params = qchem.mol_basis_data('sto-3g', symbols)\n",
    "# alpha = qmlnp.array([params[i][1] for i in range(len(symbols))])\n",
    "# alpha, n_basis, params"
   ]
  },
  {
   "cell_type": "code",
   "execution_count": 15,
   "metadata": {},
   "outputs": [],
   "source": [
    "mol = qchem.Molecule(symbols, coordinates) # , alpha=alpha\n"
   ]
  },
  {
   "cell_type": "code",
   "execution_count": 16,
   "metadata": {},
   "outputs": [],
   "source": [
    "qchem.scf(mol)() # alpha\n",
    "mo_coeff = mol.mo_coefficients\n",
    "n_ao = mo_coeff.shape[0]"
   ]
  },
  {
   "cell_type": "code",
   "execution_count": 17,
   "metadata": {},
   "outputs": [],
   "source": [
    "# with open('BeH2_mo_coeff.pickle', 'rb') as f:\n",
    "#     mo_coeff = pickle.load(f)"
   ]
  },
  {
   "cell_type": "code",
   "execution_count": 18,
   "metadata": {},
   "outputs": [
    {
     "data": {
      "text/plain": [
       "tensor([[-0.99, -0.24,  0.  , -0.  , -0.1 , -0.14,  0.  , -0.  ],\n",
       "        [-0.07,  0.91, -0.  , -0.  ,  0.28,  3.64, -0.  ,  0.  ],\n",
       "        [ 0.  ,  0.  , -0.  , -0.71,  0.  ,  0.  ,  1.6 , -0.  ],\n",
       "        [ 0.  , -0.  , -0.71,  0.  , -0.  , -0.  , -0.  , -1.6 ],\n",
       "        [ 0.02, -0.4 ,  0.  ,  0.  ,  0.95, -1.02,  0.  , -0.  ],\n",
       "        [ 0.02,  0.01, -0.42,  0.  ,  0.06, -1.52,  0.  ,  2.16],\n",
       "        [ 0.02,  0.01,  0.21, -0.36,  0.06, -1.52, -1.87, -1.08],\n",
       "        [ 0.02,  0.01,  0.21,  0.36,  0.06, -1.52,  1.87, -1.08]], requires_grad=True)"
      ]
     },
     "execution_count": 18,
     "metadata": {},
     "output_type": "execute_result"
    }
   ],
   "source": [
    "np.round(mo_coeff, 2)"
   ]
  },
  {
   "cell_type": "code",
   "execution_count": 19,
   "metadata": {},
   "outputs": [],
   "source": [
    "with open('NH3_ao_info.pickle', 'rb') as f:\n",
    "    ao_info = pickle.load(f)\n",
    "\n",
    "with open('NH3_rotations.pickle', 'rb') as f:\n",
    "    rotations = pickle.load(f)\n",
    "\n",
    "# BeH2_rotations"
   ]
  },
  {
   "cell_type": "code",
   "execution_count": 20,
   "metadata": {},
   "outputs": [],
   "source": [
    "# ao_info\n",
    "# rotations"
   ]
  },
  {
   "cell_type": "code",
   "execution_count": 21,
   "metadata": {},
   "outputs": [],
   "source": [
    "ao_rep_list = get_ao_rep(n_ao, rotations, *ao_info, mol.coordinates)"
   ]
  },
  {
   "cell_type": "code",
   "execution_count": 33,
   "metadata": {},
   "outputs": [],
   "source": [
    "# ao_rep_list"
   ]
  },
  {
   "cell_type": "code",
   "execution_count": 23,
   "metadata": {},
   "outputs": [
    {
     "data": {
      "text/plain": [
       "[array([ 1,  1,  1, -1,  1,  1, -1,  1], dtype=int32)]"
      ]
     },
     "execution_count": 23,
     "metadata": {},
     "output_type": "execute_result"
    }
   ],
   "source": [
    "def get_mo_sym(ao_rep_list, mo_coeff):\n",
    "    N = len(ao_rep_list)\n",
    "    M = mo_coeff.shape[1]\n",
    "\n",
    "    sym_list = [] # np.empty((N, M), dtype=np.int32)\n",
    "    for i in range(N):\n",
    "        sym_array = np.empty(M, dtype=np.int32)\n",
    "        sym_tag = True\n",
    "        for j in range(M):\n",
    "            org_vec = mo_coeff[:, j]\n",
    "            rep_vec = ao_rep_list[i] @ org_vec\n",
    "            # print(org_vec, rep_vec)\n",
    "            # if   np.allclose(rep_vec,  org_vec, rtol=1e-3, atol=1e-6): sym_array[j] =  1\n",
    "            # elif np.allclose(rep_vec, -org_vec, rtol=1e-3, atol=1e-6): sym_array[j] = -1\n",
    "            if   (np.abs(rep_vec - org_vec) <= 1e-2).all(): sym_array[j] =  1\n",
    "            elif (np.abs(rep_vec + org_vec) <= 1e-2).all(): sym_array[j] = -1\n",
    "            else:\n",
    "                # print(sym_array)\n",
    "                sym_tag = False\n",
    "                break\n",
    "        if sym_tag:\n",
    "            # print(sym_array)\n",
    "            sym_list.append(sym_array)\n",
    "    \n",
    "    return sym_list\n",
    "\n",
    "mo_sym_list = get_mo_sym(ao_rep_list, mo_coeff)\n",
    "mo_sym_list"
   ]
  },
  {
   "cell_type": "code",
   "execution_count": 24,
   "metadata": {},
   "outputs": [
    {
     "data": {
      "text/plain": [
       "array([ 1,  1,  1,  1,  1,  1, -1, -1,  1,  1,  1,  1, -1, -1,  1,  1])"
      ]
     },
     "execution_count": 24,
     "metadata": {},
     "output_type": "execute_result"
    }
   ],
   "source": [
    "np.kron(mo_sym_list[0], np.array([1, 1]))"
   ]
  },
  {
   "cell_type": "code",
   "execution_count": 25,
   "metadata": {},
   "outputs": [],
   "source": [
    "def get_kernel(ao_rep_list, mo_coeff):\n",
    "    from pennylane.qchem.tapering import _reduced_row_echelon\n",
    "\n",
    "    n_mo = mo_coeff.shape[1]\n",
    "    mo_sym_list = get_mo_sym(ao_rep_list, mo_coeff)\n",
    "\n",
    "    spin_arr = np.array([1, -1], dtype=np.int32)\n",
    "    mo_arr = np.ones(n_mo, dtype=np.int32)\n",
    "    spin_swap_list = [np.kron(mo_arr, spin_arr), np.kron(mo_arr, -spin_arr)]\n",
    "    so_sym_list = spin_swap_list + [np.kron(mo_sym, np.ones(2, dtype=np.int32)) for mo_sym in mo_sym_list]\n",
    "\n",
    "    so_sym_array = np.array(so_sym_list)\n",
    "    kernel = np.where(so_sym_array == 1, 0, 1)\n",
    "    kernel = _reduced_row_echelon(kernel)\n",
    "    kernel = np.delete(kernel, np.where(np.sum(kernel, 1) == 0),axis=0)\n",
    "    return kernel\n"
   ]
  },
  {
   "cell_type": "code",
   "execution_count": 26,
   "metadata": {},
   "outputs": [
    {
     "data": {
      "text/plain": [
       "array([[1, 0, 1, 0, 1, 0, 0, 1, 1, 0, 1, 0, 0, 1, 1, 0],\n",
       "       [0, 1, 0, 1, 0, 1, 0, 1, 0, 1, 0, 1, 0, 1, 0, 1],\n",
       "       [0, 0, 0, 0, 0, 0, 1, 1, 0, 0, 0, 0, 1, 1, 0, 0]])"
      ]
     },
     "execution_count": 26,
     "metadata": {},
     "output_type": "execute_result"
    }
   ],
   "source": [
    "kernel = get_kernel(ao_rep_list, mo_coeff)\n",
    "kernel"
   ]
  },
  {
   "cell_type": "code",
   "execution_count": 27,
   "metadata": {},
   "outputs": [],
   "source": [
    "generators_pgs = get_generators(kernel)\n",
    "paulixops_pgs = qml.paulix_ops(generators_pgs, n_qubits)\n",
    "paulix_sector_pgs = qml.qchem.optimal_sector(qham, generators_pgs, n_electrons)"
   ]
  },
  {
   "cell_type": "code",
   "execution_count": 28,
   "metadata": {},
   "outputs": [],
   "source": [
    "# psham_pgs_tapered = taper(qham, generators_pgs, paulixops_pgs, paulix_sector_pgs)"
   ]
  },
  {
   "cell_type": "code",
   "execution_count": 29,
   "metadata": {},
   "outputs": [],
   "source": [
    "# E_psh_pgs_tapered = eigsh(psham_pgs_tapered.to_sparse(), k=1, which='SA')[0][0] # take ? min"
   ]
  },
  {
   "cell_type": "code",
   "execution_count": 30,
   "metadata": {},
   "outputs": [],
   "source": [
    "# E_psh_pgs_tapered, E_psh_tapered"
   ]
  },
  {
   "cell_type": "code",
   "execution_count": 31,
   "metadata": {},
   "outputs": [
    {
     "data": {
      "text/plain": [
       "(2, 3)"
      ]
     },
     "execution_count": 31,
     "metadata": {},
     "output_type": "execute_result"
    }
   ],
   "source": [
    "len(generators), len(generators_pgs)"
   ]
  },
  {
   "cell_type": "code",
   "execution_count": 32,
   "metadata": {},
   "outputs": [],
   "source": [
    "# n_qubits, psham_pgs_tapered.n_qubits"
   ]
  },
  {
   "attachments": {},
   "cell_type": "markdown",
   "metadata": {},
   "source": [
    "pgs-tapering method can get 3 generators."
   ]
  }
 ],
 "metadata": {
  "kernelspec": {
   "display_name": "Python 3",
   "language": "python",
   "name": "python3"
  },
  "language_info": {
   "codemirror_mode": {
    "name": "ipython",
    "version": 3
   },
   "file_extension": ".py",
   "mimetype": "text/x-python",
   "name": "python",
   "nbconvert_exporter": "python",
   "pygments_lexer": "ipython3",
   "version": "3.8.10"
  },
  "orig_nbformat": 4,
  "vscode": {
   "interpreter": {
    "hash": "31f2aee4e71d21fbe5cf8b01ff0e069b9275f58929596ceb00d14d90e3e16cd6"
   }
  }
 },
 "nbformat": 4,
 "nbformat_minor": 2
}
