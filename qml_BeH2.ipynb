{
 "cells": [
  {
   "cell_type": "code",
   "execution_count": 1,
   "metadata": {},
   "outputs": [],
   "source": [
    "import numpy as np\n",
    "from numpy.linalg import inv\n",
    "import matplotlib.pyplot as plt\n",
    "import networkx as nx\n",
    "from scipy.sparse.linalg import eigs, eigsh\n",
    "from scipy.linalg import eig, eigh\n",
    "from functools import reduce\n",
    "import pickle\n",
    "import qutip as qt\n",
    "import jax\n",
    "# from jax import config; config.update('jax_enable_x64', True) # config.update('jax_platform_name', 'cpu')\n",
    "import jax.numpy as jnp\n",
    "\n",
    "from openfermion.chem.molecular_data import spinorb_from_spatial\n",
    "from openfermion.ops import InteractionOperator, FermionOperator\n",
    "from openfermion.transforms import get_fermion_operator, jordan_wigner\n",
    "from openfermion.linalg import get_sparse_operator, eigenspectrum\n",
    "\n",
    "from pyscf import gto, dft, scf, cc, df, ao2mo, fci\n",
    "# from pyscf import fci\n",
    "\n",
    "import pennylane as qml\n",
    "import pennylane.numpy as qmlnp\n",
    "from pennylane import qchem\n",
    "\n",
    "from ham import(\n",
    "    pauli, get_qml_ham\n",
    ")\n",
    "\n",
    "from utils import(\n",
    "    PauSumHam, taper, bit_count\n",
    ")\n",
    "\n",
    "from tapering import(\n",
    "    get_ao_rep,\n",
    "    get_generators\n",
    ")\n",
    "\n",
    "bohr = 0.529177249\n"
   ]
  },
  {
   "attachments": {},
   "cell_type": "markdown",
   "metadata": {},
   "source": [
    "## Structure"
   ]
  },
  {
   "cell_type": "code",
   "execution_count": 2,
   "metadata": {},
   "outputs": [],
   "source": [
    "symbols = [\"Be\", \"H\", \"H\"]\n",
    "d = 1.3\n",
    "coordinates = qmlnp.array([[0., 0., 0.], [0., 0., -d], [0., 0., d]], requires_grad=False)\n",
    "n_electrons = 6"
   ]
  },
  {
   "attachments": {},
   "cell_type": "markdown",
   "metadata": {},
   "source": [
    "## Hamiltonian"
   ]
  },
  {
   "cell_type": "code",
   "execution_count": 3,
   "metadata": {},
   "outputs": [],
   "source": [
    "qham, n_qubits = qchem.molecular_hamiltonian(symbols, coordinates, basis='sto-3g', mapping='jordan_wigner')"
   ]
  },
  {
   "attachments": {},
   "cell_type": "markdown",
   "metadata": {},
   "source": [
    "### generators"
   ]
  },
  {
   "cell_type": "code",
   "execution_count": 4,
   "metadata": {},
   "outputs": [
    {
     "name": "stderr",
     "output_type": "stream",
     "text": [
      "/home/physics/.local/lib/python3.8/site-packages/pennylane/operation.py:1830: UserWarning: Tensor object acts on overlapping wires; in some PennyLane functions this will lead to undefined behaviour\n",
      "  warnings.warn(\n",
      "/home/physics/.local/lib/python3.8/site-packages/pennylane/operation.py:1993: UserWarning: Tensor object acts on overlapping wires; in some PennyLane functions this will lead to undefined behaviour\n",
      "  warnings.warn(\n"
     ]
    }
   ],
   "source": [
    "generators = qml.symmetry_generators(qham)\n",
    "paulixops = qml.paulix_ops(generators, n_qubits)\n",
    "paulix_sector = qml.qchem.optimal_sector(qham, generators, n_electrons)"
   ]
  },
  {
   "attachments": {},
   "cell_type": "markdown",
   "metadata": {},
   "source": [
    "### qham tapering"
   ]
  },
  {
   "cell_type": "code",
   "execution_count": 5,
   "metadata": {},
   "outputs": [],
   "source": [
    "# qham_tapered = qml.taper(qham, generators, paulixops, paulix_sector)\n",
    "# over 4 min, memory not enough"
   ]
  },
  {
   "cell_type": "code",
   "execution_count": 6,
   "metadata": {},
   "outputs": [],
   "source": [
    "# E_qml_tapered = eigsh(qml.utils.sparse_hamiltonian(qham_tapered), k=1, which='SA')[0]"
   ]
  },
  {
   "attachments": {},
   "cell_type": "markdown",
   "metadata": {},
   "source": [
    "### psh ham tapering"
   ]
  },
  {
   "cell_type": "code",
   "execution_count": 7,
   "metadata": {},
   "outputs": [],
   "source": [
    "# psham_tapered = taper(qham, generators, paulixops, paulix_sector)"
   ]
  },
  {
   "cell_type": "code",
   "execution_count": 8,
   "metadata": {},
   "outputs": [],
   "source": [
    "# E_psh_tapered = eigsh(psham_tapered.to_sparse(), k=1, which='SA')[0][0] # take 11 min\n",
    "E_psh_tapered = -14.82514221821951"
   ]
  },
  {
   "cell_type": "code",
   "execution_count": 9,
   "metadata": {},
   "outputs": [
    {
     "data": {
      "text/plain": [
       "-14.82514221821951"
      ]
     },
     "execution_count": 9,
     "metadata": {},
     "output_type": "execute_result"
    }
   ],
   "source": [
    "E_psh_tapered"
   ]
  },
  {
   "cell_type": "code",
   "execution_count": 10,
   "metadata": {},
   "outputs": [],
   "source": [
    "# n_qubits, psham_tapered.n_qubits # (14, 10)"
   ]
  },
  {
   "attachments": {},
   "cell_type": "markdown",
   "metadata": {},
   "source": [
    "### point-group symmetry tapering (with psh)"
   ]
  },
  {
   "cell_type": "code",
   "execution_count": 11,
   "metadata": {},
   "outputs": [],
   "source": [
    "# n_basis, params = qchem.mol_basis_data('sto-3g', symbols)\n",
    "# alpha = qmlnp.array([params[i][1] for i in range(len(symbols))])\n",
    "# alpha, n_basis, params"
   ]
  },
  {
   "cell_type": "code",
   "execution_count": 12,
   "metadata": {},
   "outputs": [],
   "source": [
    "mol = qchem.Molecule(symbols, coordinates) # , alpha=alpha\n"
   ]
  },
  {
   "cell_type": "code",
   "execution_count": 13,
   "metadata": {},
   "outputs": [],
   "source": [
    "qchem.scf(mol)() # alpha\n",
    "mo_coeff = mol.mo_coefficients\n",
    "n_ao = mo_coeff.shape[0]"
   ]
  },
  {
   "cell_type": "code",
   "execution_count": 14,
   "metadata": {},
   "outputs": [],
   "source": [
    "# with open('BeH2_mo_coeff.pickle', 'rb') as f:\n",
    "#     mo_coeff = pickle.load(f)"
   ]
  },
  {
   "cell_type": "code",
   "execution_count": 15,
   "metadata": {},
   "outputs": [
    {
     "data": {
      "text/plain": [
       "tensor([[-0.98, -0.  ,  0.38,  0.  ,  0.  ,  0.2 , -0.  ],\n",
       "        [ 0.02, -0.  , -0.43,  0.  ,  0.  ,  2.13, -0.  ],\n",
       "        [-0.  ,  0.  ,  0.  ,  1.  ,  0.  , -0.  , -0.  ],\n",
       "        [-0.  ,  0.  , -0.  ,  0.  , -1.  , -0.  , -0.  ],\n",
       "        [-0.  , -0.45, -0.  , -0.  , -0.  ,  0.  ,  2.84],\n",
       "        [-0.04,  0.48, -0.4 , -0.  , -0.  , -1.33,  2.4 ],\n",
       "        [-0.04, -0.48, -0.4 , -0.  ,  0.  , -1.33, -2.4 ]], requires_grad=True)"
      ]
     },
     "execution_count": 15,
     "metadata": {},
     "output_type": "execute_result"
    }
   ],
   "source": [
    "np.round(mo_coeff, 2)"
   ]
  },
  {
   "cell_type": "code",
   "execution_count": 16,
   "metadata": {},
   "outputs": [],
   "source": [
    "with open('BeH2_ao_info.pickle', 'rb') as f:\n",
    "    ao_info = pickle.load(f)\n",
    "\n",
    "with open('BeH2_rotations.pickle', 'rb') as f:\n",
    "    rotations = pickle.load(f)\n",
    "\n",
    "# BeH2_rotations"
   ]
  },
  {
   "cell_type": "code",
   "execution_count": 17,
   "metadata": {},
   "outputs": [],
   "source": [
    "ao_rep_list = get_ao_rep(n_ao, rotations, *ao_info, mol.coordinates)"
   ]
  },
  {
   "cell_type": "code",
   "execution_count": 18,
   "metadata": {},
   "outputs": [
    {
     "data": {
      "text/plain": [
       "array([0, 0, 0, 0], dtype=int32)"
      ]
     },
     "execution_count": 18,
     "metadata": {},
     "output_type": "execute_result"
    }
   ],
   "source": [
    "sym_array = np.zeros(4, dtype=np.int32)\n",
    "sym_array[2] == 1\n",
    "sym_array"
   ]
  },
  {
   "cell_type": "code",
   "execution_count": 27,
   "metadata": {},
   "outputs": [
    {
     "data": {
      "text/plain": [
       "[array([ 1, -1,  1, -1, -1,  1, -1], dtype=int32),\n",
       " array([ 1,  1,  1, -1, -1,  1,  1], dtype=int32),\n",
       " array([ 1, -1,  1,  1,  1,  1, -1], dtype=int32),\n",
       " array([ 1, -1,  1,  1, -1,  1, -1], dtype=int32),\n",
       " array([ 1,  1,  1, -1,  1,  1,  1], dtype=int32),\n",
       " array([ 1, -1,  1, -1,  1,  1, -1], dtype=int32),\n",
       " array([ 1,  1,  1,  1, -1,  1,  1], dtype=int32)]"
      ]
     },
     "execution_count": 27,
     "metadata": {},
     "output_type": "execute_result"
    }
   ],
   "source": [
    "def get_mo_sym(ao_rep_list, mo_coeff):\n",
    "    N = len(ao_rep_list)\n",
    "    M = mo_coeff.shape[1]\n",
    "\n",
    "    sym_list = [] # np.empty((N, M), dtype=np.int32)\n",
    "    for i in range(N):\n",
    "        sym_array = np.empty(M, dtype=np.int32)\n",
    "        sym_tag = True\n",
    "        for j in range(M):\n",
    "            org_vec = mo_coeff[:, j]\n",
    "            rep_vec = ao_rep_list[i] @ org_vec\n",
    "            # print(org_vec, rep_vec)\n",
    "            # if   np.allclose(rep_vec,  org_vec, rtol=1e-3, atol=1e-6): sym_array[j] =  1\n",
    "            # elif np.allclose(rep_vec, -org_vec, rtol=1e-3, atol=1e-6): sym_array[j] = -1\n",
    "            if   (np.abs(rep_vec - org_vec) <= 1e-2).all(): sym_array[j] =  1\n",
    "            elif (np.abs(rep_vec + org_vec) <= 1e-2).all(): sym_array[j] = -1\n",
    "            else:\n",
    "                # print(sym_array)\n",
    "                sym_tag = False\n",
    "                break\n",
    "        if sym_tag:\n",
    "            # print(sym_array)\n",
    "            sym_list.append(sym_array)\n",
    "    \n",
    "    return sym_list\n",
    "\n",
    "mo_sym_list = get_mo_sym(ao_rep_list, mo_coeff)\n",
    "mo_sym_list"
   ]
  },
  {
   "cell_type": "code",
   "execution_count": 28,
   "metadata": {},
   "outputs": [
    {
     "data": {
      "text/plain": [
       "array([ 1,  1, -1, -1,  1,  1, -1, -1, -1, -1,  1,  1, -1, -1])"
      ]
     },
     "execution_count": 28,
     "metadata": {},
     "output_type": "execute_result"
    }
   ],
   "source": [
    "np.kron(mo_sym_list[0], np.array([1, 1]))"
   ]
  },
  {
   "cell_type": "code",
   "execution_count": 29,
   "metadata": {},
   "outputs": [],
   "source": [
    "def get_kernel(ao_rep_list, mo_coeff):\n",
    "    from pennylane.qchem.tapering import _reduced_row_echelon\n",
    "\n",
    "    n_mo = mo_coeff.shape[1]\n",
    "    mo_sym_list = get_mo_sym(ao_rep_list, mo_coeff)\n",
    "\n",
    "    spin_arr = np.array([1, -1], dtype=np.int32)\n",
    "    mo_arr = np.ones(n_mo, dtype=np.int32)\n",
    "    spin_swap_list = [np.kron(mo_arr, spin_arr), np.kron(mo_arr, -spin_arr)]\n",
    "    so_sym_list = spin_swap_list + [np.kron(mo_sym, np.ones(2, dtype=np.int32)) for mo_sym in mo_sym_list]\n",
    "\n",
    "    so_sym_array = np.array(so_sym_list)\n",
    "    kernel = np.where(so_sym_array == 1, 0, 1)\n",
    "    kernel = _reduced_row_echelon(kernel)\n",
    "    kernel = np.delete(kernel, np.where(np.sum(kernel, 1) == 0),axis=0)\n",
    "    return kernel\n"
   ]
  },
  {
   "cell_type": "code",
   "execution_count": 30,
   "metadata": {},
   "outputs": [
    {
     "data": {
      "text/plain": [
       "array([[1, 0, 0, 1, 1, 0, 0, 1, 0, 1, 1, 0, 0, 1],\n",
       "       [0, 1, 0, 1, 0, 1, 0, 1, 0, 1, 0, 1, 0, 1],\n",
       "       [0, 0, 1, 1, 0, 0, 0, 0, 0, 0, 0, 0, 1, 1],\n",
       "       [0, 0, 0, 0, 0, 0, 1, 1, 0, 0, 0, 0, 0, 0],\n",
       "       [0, 0, 0, 0, 0, 0, 0, 0, 1, 1, 0, 0, 0, 0]])"
      ]
     },
     "execution_count": 30,
     "metadata": {},
     "output_type": "execute_result"
    }
   ],
   "source": [
    "kernel = get_kernel(ao_rep_list, mo_coeff)\n",
    "kernel"
   ]
  },
  {
   "cell_type": "code",
   "execution_count": 31,
   "metadata": {},
   "outputs": [],
   "source": [
    "generators = get_generators(kernel)\n",
    "paulixops = qml.paulix_ops(generators, n_qubits)\n",
    "paulix_sector = qml.qchem.optimal_sector(qham, generators, n_electrons)"
   ]
  },
  {
   "cell_type": "code",
   "execution_count": 32,
   "metadata": {},
   "outputs": [],
   "source": [
    "psham_pgs_tapered = taper(qham, generators, paulixops, paulix_sector)"
   ]
  },
  {
   "cell_type": "code",
   "execution_count": 33,
   "metadata": {},
   "outputs": [],
   "source": [
    "E_psh_pgs_tapered = eigsh(psham_pgs_tapered.to_sparse(), k=1, which='SA')[0][0] # take 11 min"
   ]
  },
  {
   "cell_type": "code",
   "execution_count": 34,
   "metadata": {},
   "outputs": [
    {
     "data": {
      "text/plain": [
       "(-14.825142218213395, -14.82514221821951)"
      ]
     },
     "execution_count": 34,
     "metadata": {},
     "output_type": "execute_result"
    }
   ],
   "source": [
    "E_psh_pgs_tapered, E_psh_tapered"
   ]
  },
  {
   "cell_type": "code",
   "execution_count": 36,
   "metadata": {},
   "outputs": [
    {
     "data": {
      "text/plain": [
       "(14, 9)"
      ]
     },
     "execution_count": 36,
     "metadata": {},
     "output_type": "execute_result"
    }
   ],
   "source": [
    "n_qubits, psham_pgs_tapered.n_qubits"
   ]
  },
  {
   "attachments": {},
   "cell_type": "markdown",
   "metadata": {},
   "source": [
    "In `get_mo_sym`, `tol` should be set to `1e-2` in order to taper 5 qubits; `tol = 1e-6` would only taper 4 qubits"
   ]
  }
 ],
 "metadata": {
  "kernelspec": {
   "display_name": "Python 3",
   "language": "python",
   "name": "python3"
  },
  "language_info": {
   "codemirror_mode": {
    "name": "ipython",
    "version": 3
   },
   "file_extension": ".py",
   "mimetype": "text/x-python",
   "name": "python",
   "nbconvert_exporter": "python",
   "pygments_lexer": "ipython3",
   "version": "3.8.10"
  },
  "orig_nbformat": 4,
  "vscode": {
   "interpreter": {
    "hash": "916dbcbb3f70747c44a77c7bcd40155683ae19c65e1c03b4aa3499c5328201f1"
   }
  }
 },
 "nbformat": 4,
 "nbformat_minor": 2
}
